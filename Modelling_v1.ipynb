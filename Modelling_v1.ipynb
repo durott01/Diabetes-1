{
 "cells": [
  {
   "cell_type": "code",
   "execution_count": 1,
   "metadata": {},
   "outputs": [],
   "source": [
    "#libraries needed\n",
    "import pandas as pd\n",
    "import numpy as np\n",
    "import matplotlib.pyplot as plt\n",
    "\n",
    "#scikit\n",
    "from sklearn.model_selection import train_test_split\n",
    "from sklearn.svm import SVC, LinearSVC\n",
    "from sklearn.neighbors import KNeighborsClassifier\n",
    "from sklearn.datasets import make_classification\n",
    "from sklearn.metrics import accuracy_score, classification_report\n",
    "from sklearn import preprocessing\n",
    "from sklearn.impute import SimpleImputer"
   ]
  },
  {
   "cell_type": "code",
   "execution_count": 2,
   "metadata": {},
   "outputs": [],
   "source": [
    "df = pd.read_csv(\"cleaned_data_v5.csv\", encoding=\"Latin-1\")"
   ]
  },
  {
   "cell_type": "code",
   "execution_count": 3,
   "metadata": {},
   "outputs": [
    {
     "data": {
      "text/plain": [
       "(99492, 38)"
      ]
     },
     "execution_count": 3,
     "metadata": {},
     "output_type": "execute_result"
    }
   ],
   "source": [
    "df.shape"
   ]
  },
  {
   "cell_type": "code",
   "execution_count": 4,
   "metadata": {},
   "outputs": [],
   "source": [
    "df = df.drop(['Unnamed: 0'], axis=1)"
   ]
  },
  {
   "cell_type": "code",
   "execution_count": 5,
   "metadata": {},
   "outputs": [],
   "source": [
    "list_of_meds = ['metformin',\n",
    "       'repaglinide', 'nateglinide', 'chlorpropamide', 'glimepiride',\n",
    "       'acetohexamide', 'glipizide', 'glyburide', 'tolbutamide',\n",
    "       'pioglitazone', 'rosiglitazone', 'acarbose', 'miglitol', 'troglitazone',\n",
    "       'tolazamide', 'examide', 'citoglipton', 'insulin',\n",
    "       'glyburide-metformin', 'glipizide-metformin',\n",
    "       'glimepiride-pioglitazone', 'metformin-rosiglitazone',\n",
    "       'metformin-pioglitazone']\n",
    "\n",
    "# renaming values in medicines\n",
    "# medicine has been prescribed('dosage_increased', 'dosage_decreased', 'no_change_dosage') -> 1\n",
    "# medicine has not 'not_prescribed' -> 0\n",
    "new_values_meds = {\"dosage_increased\":1, \"dosage_decreased\":1 ,\"no_change_dosage\":1, \"not_prescribed\":0}\n",
    "for medicine in list_of_meds:\n",
    "    df[medicine] = df[medicine].replace(new_values_meds)"
   ]
  },
  {
   "cell_type": "code",
   "execution_count": 6,
   "metadata": {},
   "outputs": [],
   "source": [
    "# renaming 'gender':\n",
    "# 'Female' -> 0\n",
    "# 'Male' -> 1\n",
    "df.gender = df.gender.replace({'Female': 0, 'Male': 1})"
   ]
  },
  {
   "cell_type": "code",
   "execution_count": 7,
   "metadata": {},
   "outputs": [],
   "source": [
    "# renaming 'readmitted'\n",
    "# readmitted ('>30', '<30') -> 1\n",
    "# not readmitted  ('NO') -> 0\n",
    "df.readmitted = df.readmitted.replace({'NO': 0, '>30': 1, '<30':1})"
   ]
  },
  {
   "cell_type": "code",
   "execution_count": 8,
   "metadata": {},
   "outputs": [],
   "source": [
    "# renaming 'diabetes_med_prescribed'\n",
    "# 'Yes' -> 1 \n",
    "# 'No' -> 0\n",
    "df = df.rename(columns={'diabates_med_prescribed': 'diabetes_med_prescribed'})\n",
    "df.diabetes_med_prescribed = df.diabetes_med_prescribed.replace({'Yes': 1, 'No':0})"
   ]
  },
  {
   "cell_type": "code",
   "execution_count": 9,
   "metadata": {},
   "outputs": [],
   "source": [
    "# renaming 'change_in_meds'\n",
    "# 'Ch' -> 1\n",
    "# 'No' -> 0\n",
    "df.change_in_meds = df.change_in_meds.replace({'Ch': 1, 'No': 0})"
   ]
  },
  {
   "cell_type": "code",
   "execution_count": 10,
   "metadata": {},
   "outputs": [],
   "source": [
    "# renaming 'race'\n",
    "# Caucasian -> 0\n",
    "# AfricanAmerican -> 1\n",
    "# Hispanic -> 2\n",
    "# Other -> 3\n",
    "# Asian -> 4\n",
    "\n",
    "race_mapping = {'Caucasian':0, 'AfricanAmerican':1, 'Hispanic':2, 'Other':3, 'Asian':4 }\n",
    "df.race = df.race.replace(race_mapping)"
   ]
  },
  {
   "cell_type": "code",
   "execution_count": 11,
   "metadata": {},
   "outputs": [],
   "source": [
    "#renaming 'age'\n",
    "#[70-80) -> 70\n",
    "#[60-70) -> 60\n",
    "#[50-60) -> 90\n",
    "#[80-90) -> 80\n",
    "#[40-50) -> 40\n",
    "#[30-40) -> 30\n",
    "#[90-100) -> 90\n",
    "#[20-30) -> 20\n",
    "#[10-20) -> 10\n",
    "#[0-10)-> 0\n",
    "age_mapping = {'[70-80)': 70, '[60-70)': 60, '[50-60)':90, '[80-90)':80, '[40-50)': 40, '[30-40)': 30,'[90-100)': 90, '[20-30)': 20, '[10-20)': 10, '[0-10)': 0}\n",
    "df.age = df.age.replace(age_mapping)"
   ]
  },
  {
   "cell_type": "code",
   "execution_count": 12,
   "metadata": {},
   "outputs": [],
   "source": [
    "#OneHotEncoder for race"
   ]
  },
  {
   "cell_type": "code",
   "execution_count": 13,
   "metadata": {},
   "outputs": [
    {
     "name": "stdout",
     "output_type": "stream",
     "text": [
      "(99492, 37)\n"
     ]
    }
   ],
   "source": [
    "#separating samples from labels\n",
    "samples = df.iloc[:,0:99492]\n",
    "labels = df['readmitted']\n",
    "print(samples.shape)"
   ]
  },
  {
   "cell_type": "code",
   "execution_count": 14,
   "metadata": {},
   "outputs": [
    {
     "name": "stdout",
     "output_type": "stream",
     "text": [
      "(32832, 37)\n",
      "(66660, 37)\n"
     ]
    }
   ],
   "source": [
    "# dividing df in test data and training data\n",
    "x_train, x_test, y_train, y_test = train_test_split(samples, labels, test_size=0.67, train_size= 0.33)\n",
    "print(x_train.shape)\n",
    "print(x_test.shape)"
   ]
  },
  {
   "cell_type": "code",
   "execution_count": 15,
   "metadata": {},
   "outputs": [
    {
     "name": "stdout",
     "output_type": "stream",
     "text": [
      "StandardScaler(copy=True, with_mean=True, with_std=True)\n",
      "[3.07535331e-01 4.59978070e-01 6.77518884e+01 4.42333699e+00\n",
      " 4.32284661e+01 1.34143519e+00 1.60391386e+01 3.77710770e-01\n",
      " 2.04617446e-01 6.33497807e-01 7.44194688e+00 1.96363304e-01\n",
      " 1.52899610e-02 6.36574074e-03 8.83284600e-04 5.18701267e-02\n",
      " 0.00000000e+00 1.25121832e-01 1.02765595e-01 2.43664717e-04\n",
      " 7.23379630e-02 6.12816764e-02 3.04580897e-03 1.52290448e-04\n",
      " 3.04580897e-05 1.82748538e-04 0.00000000e+00 0.00000000e+00\n",
      " 5.33168860e-01 6.88352827e-03 1.21832359e-04 0.00000000e+00\n",
      " 0.00000000e+00 3.04580897e-05 4.63480750e-01 7.68884016e-01\n",
      " 4.63541667e-01]\n",
      "[[ 1.06539571 -0.92291747 -2.07505294 ...  1.07591213  0.54825749\n",
      "  -0.92955778]\n",
      " [-0.47316035 -0.92291747  0.12356867 ...  1.07591213  0.54825749\n",
      "   1.07578035]\n",
      " [-0.47316035 -0.92291747 -1.52539754 ...  1.07591213  0.54825749\n",
      "  -0.92955778]\n",
      " ...\n",
      " [-0.47316035 -0.92291747  0.12356867 ...  1.07591213  0.54825749\n",
      "  -0.92955778]\n",
      " [-0.47316035  1.08352051 -1.52539754 ...  1.07591213  0.54825749\n",
      "  -0.92955778]\n",
      " [-0.47316035  1.08352051  0.67322407 ... -0.92944393  0.54825749\n",
      "   1.07578035]]\n",
      "[[-0.47316035  1.08352051  1.22287947 ...  1.07591213  0.54825749\n",
      "   1.07578035]\n",
      " [-0.47316035  1.08352051 -3.72401915 ...  1.07591213  0.54825749\n",
      "  -0.92955778]\n",
      " [-0.47316035 -0.92291747 -0.42608673 ...  1.07591213  0.54825749\n",
      "  -0.92955778]\n",
      " ...\n",
      " [-0.47316035 -0.92291747  0.12356867 ... -0.92944393  0.54825749\n",
      "  -0.92955778]\n",
      " [-0.47316035  1.08352051 -0.42608673 ...  1.07591213  0.54825749\n",
      "   1.07578035]\n",
      " [-0.47316035 -0.92291747  0.67322407 ... -0.92944393  0.54825749\n",
      "  -0.92955778]]\n"
     ]
    },
    {
     "name": "stderr",
     "output_type": "stream",
     "text": [
      "/Users/zara/anaconda3/lib/python3.7/site-packages/sklearn/preprocessing/data.py:645: DataConversionWarning: Data with input dtype int64 were all converted to float64 by StandardScaler.\n",
      "  return self.partial_fit(X, y)\n",
      "/Users/zara/anaconda3/lib/python3.7/site-packages/ipykernel_launcher.py:11: DataConversionWarning: Data with input dtype int64 were all converted to float64 by StandardScaler.\n",
      "  # This is added back by InteractiveShellApp.init_path()\n",
      "/Users/zara/anaconda3/lib/python3.7/site-packages/ipykernel_launcher.py:12: DataConversionWarning: Data with input dtype int64 were all converted to float64 by StandardScaler.\n",
      "  if sys.path[0] == '':\n"
     ]
    }
   ],
   "source": [
    "#pre-processing\n",
    "\n",
    "#scaling\n",
    "scaler = preprocessing.StandardScaler()\n",
    "\n",
    "#estimating means and standard deviation\n",
    "print(scaler.fit(x_train))\n",
    "print(scaler.mean_)\n",
    "\n",
    "#transforming\n",
    "x_train_standard_dev = scaler.transform(x_train)\n",
    "x_test_standard_dev = scaler.transform(x_test)\n",
    "print(x_train_standard_dev)\n",
    "print(x_test_standard_dev)"
   ]
  },
  {
   "cell_type": "code",
   "execution_count": 16,
   "metadata": {},
   "outputs": [],
   "source": [
    "# classifiers\n",
    "LSVC = LinearSVC(dual=False)\n",
    "KNN = KNeighborsClassifier(n_neighbors=10)\n",
    "#SVC = SVC(dual=False)"
   ]
  },
  {
   "cell_type": "code",
   "execution_count": 17,
   "metadata": {},
   "outputs": [
    {
     "name": "stdout",
     "output_type": "stream",
     "text": [
      "44221 66660\n"
     ]
    }
   ],
   "source": [
    "#KNN modelling\n",
    "KNN.fit(x_train, y_train)\n",
    "y_pred_KNN = KNN.predict(x_test)\n",
    "print(np.sum(y_test == y_pred_KNN), len(y_test))"
   ]
  },
  {
   "cell_type": "code",
   "execution_count": 18,
   "metadata": {},
   "outputs": [
    {
     "data": {
      "text/plain": [
       "0.6633813381338134"
      ]
     },
     "execution_count": 18,
     "metadata": {},
     "output_type": "execute_result"
    }
   ],
   "source": [
    "#KNN accuracy\n",
    "accuracy_score(y_test, y_pred_KNN)"
   ]
  },
  {
   "cell_type": "code",
   "execution_count": 19,
   "metadata": {},
   "outputs": [
    {
     "name": "stdout",
     "output_type": "stream",
     "text": [
      "66660 66660\n"
     ]
    }
   ],
   "source": [
    "#LSVC modelling\n",
    "LSVC.fit(x_train, y_train)\n",
    "y_pred_LSVC= LSVC.predict(x_test)\n",
    "print(np.sum(y_test == y_pred_LSVC), len(y_test))"
   ]
  },
  {
   "cell_type": "code",
   "execution_count": 20,
   "metadata": {},
   "outputs": [
    {
     "data": {
      "text/plain": [
       "1.0"
      ]
     },
     "execution_count": 20,
     "metadata": {},
     "output_type": "execute_result"
    }
   ],
   "source": [
    "accuracy_score(y_test, y_pred_LSVC)"
   ]
  },
  {
   "cell_type": "code",
   "execution_count": 21,
   "metadata": {},
   "outputs": [],
   "source": [
    "#find other models"
   ]
  },
  {
   "cell_type": "code",
   "execution_count": 22,
   "metadata": {},
   "outputs": [],
   "source": [
    "#check for overfitting and underfitting"
   ]
  },
  {
   "cell_type": "code",
   "execution_count": 23,
   "metadata": {},
   "outputs": [],
   "source": [
    "#cross-validation 50%50"
   ]
  },
  {
   "cell_type": "code",
   "execution_count": 24,
   "metadata": {},
   "outputs": [],
   "source": [
    "#data visualisation"
   ]
  },
  {
   "cell_type": "code",
   "execution_count": null,
   "metadata": {},
   "outputs": [],
   "source": []
  }
 ],
 "metadata": {
  "kernelspec": {
   "display_name": "Python 3",
   "language": "python",
   "name": "python3"
  },
  "language_info": {
   "codemirror_mode": {
    "name": "ipython",
    "version": 3
   },
   "file_extension": ".py",
   "mimetype": "text/x-python",
   "name": "python",
   "nbconvert_exporter": "python",
   "pygments_lexer": "ipython3",
   "version": "3.7.3"
  }
 },
 "nbformat": 4,
 "nbformat_minor": 2
}
