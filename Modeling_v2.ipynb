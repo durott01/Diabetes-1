{
 "cells": [
  {
   "cell_type": "code",
   "execution_count": null,
   "metadata": {},
   "outputs": [],
   "source": [
    "#libraries needed\n",
    "import pandas as pd\n",
    "import numpy as np\n",
    "import matplotlib.pyplot as plt\n",
    "\n",
    "#scikit\n",
    "from sklearn.model_selection import train_test_split\n",
    "from sklearn.neighbors import KNeighborsClassifier\n",
    "from sklearn import preprocessing\n",
    "from sklearn import metrics"
   ]
  },
  {
   "cell_type": "code",
   "execution_count": null,
   "metadata": {},
   "outputs": [],
   "source": [
    "df = pd.read_csv(\"cleaned_data_v5.csv\", encoding=\"Latin-1\")"
   ]
  },
  {
   "cell_type": "code",
   "execution_count": null,
   "metadata": {},
   "outputs": [],
   "source": [
    "df.shape"
   ]
  },
  {
   "cell_type": "code",
   "execution_count": null,
   "metadata": {},
   "outputs": [],
   "source": [
    "df.columns"
   ]
  },
  {
   "cell_type": "code",
   "execution_count": null,
   "metadata": {},
   "outputs": [],
   "source": [
    "df = df.drop(['Unnamed: 0'], axis=1)"
   ]
  },
  {
   "cell_type": "code",
   "execution_count": null,
   "metadata": {},
   "outputs": [],
   "source": [
    "list_of_meds = ['metformin',\n",
    "       'repaglinide', 'nateglinide', 'chlorpropamide', 'glimepiride',\n",
    "       'acetohexamide', 'glipizide', 'glyburide', 'tolbutamide',\n",
    "       'pioglitazone', 'rosiglitazone', 'acarbose', 'miglitol', 'troglitazone',\n",
    "       'tolazamide', 'examide', 'citoglipton', 'insulin',\n",
    "       'glyburide-metformin', 'glipizide-metformin',\n",
    "       'glimepiride-pioglitazone', 'metformin-rosiglitazone',\n",
    "       'metformin-pioglitazone']\n",
    "\n",
    "# renaming values in medicines\n",
    "# change in dosage('dosage_increased', 'dosage_decreased') -> 1\n",
    "# no change or not prescribed 'not_prescribed', no_change_dosage -> 0\n",
    "new_values_meds = {\"dosage_increased\":2, \"dosage_decreased\":-1 ,\"no_change_dosage\":1, \"not_prescribed\":0}\n",
    "for medicine in list_of_meds:\n",
    "    df[medicine] = df[medicine].replace(new_values_meds)"
   ]
  },
  {
   "cell_type": "code",
   "execution_count": null,
   "metadata": {},
   "outputs": [],
   "source": [
    "# renaming 'readmitted'\n",
    "# readmitted ('>30', '<30') -> 1\n",
    "# not readmitted  ('NO') -> 0\n",
    "df.readmitted = df.readmitted.replace({'NO': 0, '>30': 2, '<30':1})"
   ]
  },
  {
   "cell_type": "code",
   "execution_count": null,
   "metadata": {},
   "outputs": [],
   "source": [
    "# renaming 'diabetes_med_prescribed'\n",
    "# 'Yes' -> 1 \n",
    "# 'No' -> 0\n",
    "df = df.rename(columns={'diabates_med_prescribed': 'diabetes_med_prescribed'})\n",
    "df.diabetes_med_prescribed = df.diabetes_med_prescribed.replace({'Yes': 1, 'No':0})"
   ]
  },
  {
   "cell_type": "code",
   "execution_count": null,
   "metadata": {},
   "outputs": [],
   "source": [
    "# renaming 'change_in_meds'\n",
    "# 'Ch' -> 1\n",
    "# 'No' -> 0\n",
    "df.change_in_meds = df.change_in_meds.replace({'Ch': 1, 'No': 0})"
   ]
  },
  {
   "cell_type": "code",
   "execution_count": null,
   "metadata": {},
   "outputs": [],
   "source": [
    "#renaming 'age'\n",
    "#[70-80) -> 70\n",
    "#[60-70) -> 60\n",
    "#[50-60) -> 90\n",
    "#[80-90) -> 80\n",
    "#[40-50) -> 40\n",
    "#[30-40) -> 30\n",
    "#[90-100) -> 90\n",
    "#[20-30) -> 20\n",
    "#[10-20) -> 10\n",
    "#[0-10)-> 0\n",
    "age_mapping = {'[70-80)': 70, '[60-70)': 60, '[50-60)':90, '[80-90)':80, '[40-50)': 40, '[30-40)': 30,'[90-100)': 90, '[20-30)': 20, '[10-20)': 10, '[0-10)': 0}\n",
    "df.age = df.age.replace(age_mapping)"
   ]
  },
  {
   "cell_type": "code",
   "execution_count": null,
   "metadata": {},
   "outputs": [],
   "source": [
    "#before\n",
    "print(df.race.value_counts())\n",
    "print(df.gender.value_counts())"
   ]
  },
  {
   "cell_type": "raw",
   "metadata": {},
   "source": [
    "Using LabelEncoder and OneHotEncoder to change string values in order to not assign any numerical values to certain categorical values, where integers do not represent the categories appropriately."
   ]
  },
  {
   "cell_type": "code",
   "execution_count": null,
   "metadata": {},
   "outputs": [],
   "source": [
    "#before\n",
    "df.head()"
   ]
  },
  {
   "cell_type": "code",
   "execution_count": null,
   "metadata": {},
   "outputs": [],
   "source": [
    "x = df.columns.values\n",
    "le_gender = preprocessing.LabelEncoder()\n",
    "le_race = preprocessing.LabelEncoder()\n",
    "x_gender = le_gender.fit_transform(df.gender.values)\n",
    "x_race = le_race.fit_transform(df.race.values)\n",
    "df['gender'] = x_gender\n",
    "df['race'] = x_race"
   ]
  },
  {
   "cell_type": "code",
   "execution_count": null,
   "metadata": {},
   "outputs": [],
   "source": [
    "#after\n",
    "print(df.gender.value_counts())\n",
    "print(df.race.value_counts())"
   ]
  },
  {
   "cell_type": "markdown",
   "metadata": {},
   "source": [
    "We can deduct that:\n",
    "In race: Caucasian = 2, AfricanAmerican = 0, Hispanic = 3, Other = 4, 1 = Asian\n",
    "In gender: Female = 0, Male = 1"
   ]
  },
  {
   "cell_type": "code",
   "execution_count": null,
   "metadata": {},
   "outputs": [],
   "source": [
    "#after\n",
    "df.head()"
   ]
  },
  {
   "cell_type": "code",
   "execution_count": null,
   "metadata": {},
   "outputs": [],
   "source": [
    "#separating samples from labels\n",
    "samples = df.iloc[:,0:99492]\n",
    "labels = df['readmitted']\n",
    "print(samples.shape)"
   ]
  },
  {
   "cell_type": "code",
   "execution_count": null,
   "metadata": {},
   "outputs": [],
   "source": [
    "# dividing df in test data and training data\n",
    "x_train, x_test, y_train, y_test = train_test_split(samples, labels, test_size=0.7, train_size= 0.3)\n",
    "print(x_train.shape)\n",
    "print(x_test.shape)"
   ]
  },
  {
   "cell_type": "code",
   "execution_count": null,
   "metadata": {},
   "outputs": [],
   "source": [
    "# try and experiemnt with test size"
   ]
  },
  {
   "cell_type": "code",
   "execution_count": null,
   "metadata": {},
   "outputs": [],
   "source": [
    "#normalisation\n",
    "\n",
    "#scaling\n",
    "scaler = preprocessing.MinMaxScaler()\n",
    "x_train_norm = scaler.fit_transform(x_train)\n",
    "\n",
    "#transforming\n",
    "x_test_norm = scaler.transform(x_test)\n",
    "print(x_train_norm)\n",
    "print(x_test_norm)"
   ]
  },
  {
   "cell_type": "code",
   "execution_count": null,
   "metadata": {},
   "outputs": [],
   "source": [
    "#KNN modelling\n",
    "\n",
    "for n_neighbours in [1, 5, 10, 15, 20, 25, 30]:\n",
    "    knn = KNeighborsClassifier(n_neighbours)\n",
    "    knn.fit(x_train, y_train)\n",
    "    y_pred = knn.predict(x_test)\n",
    "    print(\"N neighbours \" + str(n_neighbours))\n",
    "    print(\"Found vs Actual \")\n",
    "    print(np.sum(y_test == y_pred), len(y_test))\n",
    "    print(\"Accuracy score \" + str(knn.score(x_test, y_test)))\n",
    "    print(\"****************\")\n",
    "#example above taken from lab7 file 5.0"
   ]
  },
  {
   "cell_type": "code",
   "execution_count": null,
   "metadata": {},
   "outputs": [],
   "source": [
    "metrics.confusion_matrix(y_test, y_pred)"
   ]
  },
  {
   "cell_type": "code",
   "execution_count": null,
   "metadata": {},
   "outputs": [],
   "source": [
    "metrics.classification_report(y_test, y_pred)"
   ]
  },
  {
   "cell_type": "code",
   "execution_count": null,
   "metadata": {},
   "outputs": [],
   "source": [
    "#check for overfitting and underfitting -> DATA VIS!!"
   ]
  },
  {
   "cell_type": "code",
   "execution_count": null,
   "metadata": {},
   "outputs": [],
   "source": [
    "#cross-validation\n",
    "x_train_2, x_test_2, y_train_2, y_test_2 = train_test_split(samples, labels, test_size=0.5, train_size= 0.5)\n"
   ]
  },
  {
   "cell_type": "markdown",
   "metadata": {},
   "source": [
    "Source used: Sebastian Raschka, 2015. Python Machine Learning. "
   ]
  }
 ],
 "metadata": {
  "kernelspec": {
   "display_name": "Python 3",
   "language": "python",
   "name": "python3"
  },
  "language_info": {
   "codemirror_mode": {
    "name": "ipython",
    "version": 3
   },
   "file_extension": ".py",
   "mimetype": "text/x-python",
   "name": "python",
   "nbconvert_exporter": "python",
   "pygments_lexer": "ipython3",
   "version": "3.7.3"
  }
 },
 "nbformat": 4,
 "nbformat_minor": 2
}
