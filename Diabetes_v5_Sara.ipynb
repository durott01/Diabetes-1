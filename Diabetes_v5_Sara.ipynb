{
 "cells": [
  {
   "cell_type": "markdown",
   "metadata": {},
   "source": [
    "# Data Cleaning and Transformation\n",
    "## Notebook 1\n",
    "\n",
    "Group project by:\n",
    "    - Tinuke Durotolu\n",
    "    - Sara Ruini\n",
    "    - Susan Yousefi\n"
   ]
  },
  {
   "cell_type": "markdown",
   "metadata": {},
   "source": [
    "<b> Data source: </b> https://archive.ics.uci.edu/ml/datasets/Diabetes+130-US+hospitals+for+years+1999-2008# \n",
    "\n",
    "<b> Reference: </b>\n",
    "Beata Strack, Jonathan P. DeShazo, Chris Gennings, Juan L. Olmo, Sebastian Ventura, Krzysztof J. Cios, and John N. Clore, “Impact of HbA1c Measurement on Hospital Readmission Rates: Analysis of 70,000 Clinical Database Patient Records,” BioMed Research International, vol. 2014, Article ID 781670, 11 pages, 2014. "
   ]
  },
  {
   "cell_type": "code",
   "execution_count": null,
   "metadata": {},
   "outputs": [],
   "source": [
    "#libraries needed\n",
    "import pandas as pd\n",
    "import numpy as np\n",
    "import os"
   ]
  },
  {
   "cell_type": "markdown",
   "metadata": {},
   "source": [
    "## Dataset challenges\n",
    "This dataset has been pre-cleaned. However, there's some modifications that we need to perform.\n",
    "\n",
    "## About the medicines\n",
    "# ADD SOURCE?!?!??!??!??!?!!? ->\n",
    "\n",
    "    - Metformin is a biguanide that lowers blood sugar levels.\n",
    "    - Repaglinide and Nateglinide belongs to metglinides drug class and also helps lower blood glucose levels.\n",
    "    - Tolbutamide, glimepiride and glipizide are sulfonylureas that help stimulate pancreas to produce insulin.\n",
    "    - Pioglitazine is a thiazolidinedione and increased the sensitivity of body cells to insulin.\n",
    "    - The other groups include gliptins, insulins and the other medications we have grouped as others.\n",
    "    \n",
    "In the column of each medicine (e.g. 'metmorfin'), \"Up\" means that the medicine got incresed, \"Down\" means that it got decreased, \"Steady\" means that the dosage has not changed and \"No\" means it was not prescribed.\n"
   ]
  },
  {
   "cell_type": "code",
   "execution_count": null,
   "metadata": {},
   "outputs": [],
   "source": [
    "df = pd.read_csv(\"diabetic_data.csv\", encoding=\"Latin-1\")"
   ]
  },
  {
   "cell_type": "markdown",
   "metadata": {},
   "source": [
    "## Visualising the datasets\n",
    "\n",
    "First of all, we are going to visualise the datatype of each column in the dataset and see if there is any missing values.\n",
    "\n",
    "Our aim is to remove unnecessary values and columns and remove any information that we consider redundant."
   ]
  },
  {
   "cell_type": "markdown",
   "metadata": {},
   "source": [
    "## Removing unnecessary values"
   ]
  },
  {
   "cell_type": "markdown",
   "metadata": {},
   "source": [
    "We will visualise the info of the dataset (presence of null-values) for each column, show the head and tail of the dataset and show the percentage of unique value_counts. "
   ]
  },
  {
   "cell_type": "code",
   "execution_count": null,
   "metadata": {},
   "outputs": [],
   "source": [
    "df.info()"
   ]
  },
  {
   "cell_type": "markdown",
   "metadata": {},
   "source": [
    "There are a total of 101766 data entries in this dataset.\n",
    "\n",
    "Before analysing this dataframe further, we will drop unnecessary columns. Specifically, we will delete medicines prescribed that are not used in the UK and some variables that are not needed for our model."
   ]
  },
  {
   "cell_type": "code",
   "execution_count": null,
   "metadata": {},
   "outputs": [],
   "source": [
    "to_drop = ['weight','medical_specialty', 'admission_type_id', 'discharge_disposition_id','max_glu_serum', 'admission_source_id', 'encounter_id','patient_nbr', 'diag_1', 'diag_2', 'diag_3', 'payer_code', 'A1Cresult']\n",
    "df.drop(to_drop, inplace=True, axis=1)"
   ]
  },
  {
   "cell_type": "code",
   "execution_count": null,
   "metadata": {},
   "outputs": [],
   "source": [
    "#df.dropna()"
   ]
  },
  {
   "cell_type": "code",
   "execution_count": null,
   "metadata": {},
   "outputs": [],
   "source": [
    "df.head(5)"
   ]
  },
  {
   "cell_type": "code",
   "execution_count": null,
   "metadata": {},
   "outputs": [],
   "source": [
    "df.tail(5)"
   ]
  },
  {
   "cell_type": "code",
   "execution_count": null,
   "metadata": {},
   "outputs": [],
   "source": [
    "df = df.dropna(axis=0, how=\"any\")\n",
    "df.info()"
   ]
  },
  {
   "cell_type": "code",
   "execution_count": null,
   "metadata": {},
   "outputs": [],
   "source": [
    "df.describe(include='all')"
   ]
  },
  {
   "cell_type": "code",
   "execution_count": null,
   "metadata": {},
   "outputs": [],
   "source": [
    "def value_counter(dataset):\n",
    "    for index in df.columns:\n",
    "        print(\"---- Index: \" + index + \"----\")\n",
    "        print(df[index].value_counts(normalize=True, sort=True))\n",
    "value_counter(df)"
   ]
  },
  {
   "cell_type": "markdown",
   "metadata": {},
   "source": [
    "Some columns have a lot of unique numeric values which could be put in ranges. Let's display them to make each category more readable.  These columns are: 'num_lab_procedures', 'num_medications', "
   ]
  },
  {
   "cell_type": "code",
   "execution_count": null,
   "metadata": {},
   "outputs": [],
   "source": [
    "cols_to_range = ['num_lab_procedures', 'num_medications']\n",
    "for col in cols_to_range:\n",
    "    unique_val_col = df[col].unique().shape\n",
    "    print(\"Column: '\" + col + \"'. Number of unique values: \" + str(unique_val_col) + \".\")\n",
    "    print(df[col].value_counts(bins=10, sort=True))\n",
    "    print(\"-------\")"
   ]
  },
  {
   "cell_type": "markdown",
   "metadata": {},
   "source": [
    "## Data Modification"
   ]
  },
  {
   "cell_type": "markdown",
   "metadata": {},
   "source": [
    "### Removing missing/unclear and null values.\n"
   ]
  },
  {
   "cell_type": "code",
   "execution_count": null,
   "metadata": {},
   "outputs": [],
   "source": [
    "df = df[df['gender']!='Unknown/Invalid']\n",
    "df = df[df['race']!='?']"
   ]
  },
  {
   "cell_type": "markdown",
   "metadata": {},
   "source": [
    "### Renaming columns"
   ]
  },
  {
   "cell_type": "code",
   "execution_count": null,
   "metadata": {},
   "outputs": [],
   "source": [
    "df.columns"
   ]
  },
  {
   "cell_type": "markdown",
   "metadata": {},
   "source": [
    "The goal is to:\n",
    "    - Clarify what the column in the data is;\n",
    "    - Conform to python standards (e.g. using snakecase)"
   ]
  },
  {
   "cell_type": "code",
   "execution_count": null,
   "metadata": {},
   "outputs": [],
   "source": [
    "new_col_names = {\n",
    "    \"time_in_hospital\" : \"days_in_hospital\",\n",
    "    \"admission_type_id\": \"admission_type\",\n",
    "    \"discharge_disposition_id\": \"discharge_disposition_type\",\n",
    "    \"num_procedures\": \"num_not_lab_procedures\",\n",
    "    \"num_medications\": \"num_current_medications\",\n",
    "    \"num_diagnoses\": \"num_existing_conditions\",\n",
    "    \"change\": \"change_in_meds\",\n",
    "    \"diabetesMed\": \"diabates_med_prescribed\",\n",
    "    \"number_emergency\": \"num_previous_emergencies\",\n",
    "    \"number_outpatient\": \"num_outpatient_appointments\",\n",
    "    \"number_inpatient\": \"num_inpatient_overnight_stays\"\n",
    "    }\n",
    "df = df.rename(columns=new_col_names)\n",
    "df.columns"
   ]
  },
  {
   "cell_type": "markdown",
   "metadata": {},
   "source": [
    "### Renaming values for each medicine"
   ]
  },
  {
   "cell_type": "code",
   "execution_count": null,
   "metadata": {},
   "outputs": [],
   "source": [
    "list_of_meds = ['metformin',\n",
    "       'repaglinide', 'nateglinide', 'chlorpropamide', 'glimepiride',\n",
    "       'acetohexamide', 'glipizide', 'glyburide', 'tolbutamide',\n",
    "       'pioglitazone', 'rosiglitazone', 'acarbose', 'miglitol', 'troglitazone',\n",
    "       'tolazamide', 'examide', 'citoglipton', 'insulin',\n",
    "       'glyburide-metformin', 'glipizide-metformin',\n",
    "       'glimepiride-pioglitazone', 'metformin-rosiglitazone',\n",
    "       'metformin-pioglitazone']\n",
    "\n",
    "new_values = {\"Up\": \"dosage_increased\", \"Down\": \"dosage_decreased\",\"Steady\":\"no_change_dosage\", \"No\":\"not_prescribed\"}\n",
    "for medicine in list_of_meds:\n",
    "    df[medicine] = df[medicine].replace(new_values)\n",
    "\n",
    "for col in list_of_meds[:3]:\n",
    "    print(\"----\" + col + \"----\")\n",
    "    print(df[col].value_counts(sort=True))\n",
    "    print(\"-------\")"
   ]
  },
  {
   "cell_type": "code",
   "execution_count": null,
   "metadata": {},
   "outputs": [],
   "source": [
    "df.dropna()"
   ]
  },
  {
   "cell_type": "code",
   "execution_count": null,
   "metadata": {},
   "outputs": [],
   "source": [
    "df.describe(include='all')"
   ]
  },
  {
   "cell_type": "code",
   "execution_count": null,
   "metadata": {},
   "outputs": [],
   "source": [
    "## Data Cleaning and Transformation conclusion\n",
    "At first glance, we can notice that the majority of people being re-admitted are:\n",
    "- Caucasian\n",
    "- Female\n",
    "- Aged 50+\n",
    "- takes between 9 and 17 medications\n",
    "# TO BE FINISHED"
   ]
  },
  {
   "cell_type": "code",
   "execution_count": null,
   "metadata": {},
   "outputs": [],
   "source": [
    "df.to_csv(\"cleaned_data_v5.csv\")"
   ]
  }
 ],
 "metadata": {
  "kernelspec": {
   "display_name": "Python 3",
   "language": "python",
   "name": "python3"
  },
  "language_info": {
   "codemirror_mode": {
    "name": "ipython",
    "version": 3
   },
   "file_extension": ".py",
   "mimetype": "text/x-python",
   "name": "python",
   "nbconvert_exporter": "python",
   "pygments_lexer": "ipython3",
   "version": "3.7.3"
  }
 },
 "nbformat": 4,
 "nbformat_minor": 2
}
